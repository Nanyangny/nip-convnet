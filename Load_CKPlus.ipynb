{
 "cells": [
  {
   "cell_type": "code",
   "execution_count": null,
   "metadata": {},
   "outputs": [],
   "source": [
    "import pandas as pd\n",
    "import os\n",
    "from scipy import misc"
   ]
  },
  {
   "cell_type": "code",
   "execution_count": null,
   "metadata": {},
   "outputs": [],
   "source": [
    "emotions_path = \"datasets/Emotion\"\n",
    "\n",
    "emotions = []\n",
    "for subject in os.listdir(emotions_path):\n",
    "    for sequence in os.listdir(os.path.join(emotions_path, subject)):\n",
    "        if os.path.isdir(os.path.join(emotions_path, subject, sequence)):\n",
    "            if len(os.listdir(os.path.join(emotions_path, subject, sequence))) > 0:\n",
    "                emo_file = os.listdir(os.path.join(emotions_path, subject, sequence))[0]\n",
    "                filename = '_'.join(emo_file.split('.')[0].split('_')[:-1])\n",
    "\n",
    "                with open(os.path.join(emotions_path, subject, sequence, emo_file), 'r') as f:\n",
    "                    emotion=int(float(f.read()))\n",
    "                emotions.append({'filename': filename, 'emotion': emotion})"
   ]
  },
  {
   "cell_type": "code",
   "execution_count": null,
   "metadata": {},
   "outputs": [],
   "source": [
    "data = []\n",
    "\n",
    "dataset_path = \"datasets/cohn-kanade-images\"\n",
    "for subject in os.listdir(dataset_path):\n",
    "    for sequence in os.listdir(os.path.join(dataset_path, subject)):\n",
    "        if os.path.isdir(os.path.join(dataset_path, subject, sequence)):\n",
    "            for pngfile in os.listdir(os.path.join(dataset_path, subject, sequence)):\n",
    "                try:\n",
    "                    emotion = [e['emotion'] for e in emotions if e['filename'] == pngfile.split('.')[:-1][0]][0]\n",
    "                    image = misc.imread(os.path.join(dataset_path, subject, sequence, pngfile)).flatten()\n",
    "                    data.append({'image': image, 'emotion': emotion})\n",
    "                except IndexError:\n",
    "                    pass\n",
    "                \n",
    "df = pd.DataFrame(data)"
   ]
  },
  {
   "cell_type": "code",
   "execution_count": null,
   "metadata": {},
   "outputs": [],
   "source": [
    "df"
   ]
  },
  {
   "cell_type": "code",
   "execution_count": null,
   "metadata": {},
   "outputs": [],
   "source": [
    "data[0]['image'].shape"
   ]
  },
  {
   "cell_type": "code",
   "execution_count": null,
   "metadata": {
    "collapsed": true
   },
   "outputs": [],
   "source": []
  }
 ],
 "metadata": {
  "kernelspec": {
   "display_name": "Python 3",
   "language": "python",
   "name": "python3"
  },
  "language_info": {
   "codemirror_mode": {
    "name": "ipython",
    "version": 3
   },
   "file_extension": ".py",
   "mimetype": "text/x-python",
   "name": "python",
   "nbconvert_exporter": "python",
   "pygments_lexer": "ipython3",
   "version": "3.6.1"
  }
 },
 "nbformat": 4,
 "nbformat_minor": 2
}
